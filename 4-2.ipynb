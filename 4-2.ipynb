The subjects of 4-2 are 
1)Information theory and coding
2)real time systems
3)data analysis
4)modern software engineering 
5)advanced algorithms 
6)web services and COA
7)computer forensics
8)neural and deep learning
