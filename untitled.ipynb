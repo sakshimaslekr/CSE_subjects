import numpy as np
import pandas as pd
import matplotlib.pyplot as plt
from theano import *
import theano.tensor as T
from PIL import image
import os
from sklearn.model_selection import train_test_split
from keras.utils import to_categorical
from keras.models import Sequential
from keras.layers import Conv2D, MaxPool2D, Dense, Flatten, Dropout

data = []
labels = []
classes = 43
cur_path = os.getcwd()

for i in range(classes):
    path = os.path.join(cur_path,'train' ,str(i))
    images = os.listdir(path)

    for a in images:
        try:
            image = Image.open(path + '\\'+ a)
            image = Image.resize(30,30)
            image = Image.array(image)
            data.append(image)
            labels.append(i)
        except:
            print("Error loadind image")

data = np.array(data)
labels = np.array(labels)
